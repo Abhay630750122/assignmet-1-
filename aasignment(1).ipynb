{
 "cells": [
  {
   "cell_type": "code",
   "execution_count": 1,
   "id": "f3498315-68d1-4a15-a979-0afb3c622cc3",
   "metadata": {},
   "outputs": [
    {
     "name": "stdout",
     "output_type": "stream",
     "text": [
      "1\n",
      "2\n",
      "3\n",
      "4\n",
      "5\n"
     ]
    }
   ],
   "source": [
    "#A for loop is usually used when you know in advance how many times you want to iterate over a block of code. This is because a for loop uses a counter variable that is incremented or decremented in each iteration.\n",
    "\n",
    "#Here's an example:\n",
    "\n",
    "# Print numbers from 1 to 5 using a for loop\n",
    "for i in range(1, 6):\n",
    "    print(i)\n"
   ]
  },
  {
   "cell_type": "code",
   "execution_count": 2,
   "id": "6628e5d4-9d6b-4491-9679-08fc7904ba5b",
   "metadata": {},
   "outputs": [
    {
     "name": "stdout",
     "output_type": "stream",
     "text": [
      "1\n",
      "2\n",
      "3\n",
      "4\n",
      "5\n"
     ]
    }
   ],
   "source": [
    "#a while loop is used when you don't know in advance how many times you need to execute a block of code. Instead, the loop continues to execute as long as a certain condition is true. \n",
    "#Here's an example:\n",
    "\n",
    "# Print numbers from 1 to 5 using a while loop\n",
    "i = 1\n",
    "while i <= 5:\n",
    "    print(i)\n",
    "    i += 1\n"
   ]
  },
  {
   "cell_type": "code",
   "execution_count": 3,
   "id": "f3503226-b308-4478-980a-fab76642008d",
   "metadata": {},
   "outputs": [
    {
     "name": "stdout",
     "output_type": "stream",
     "text": [
      "The sum of the first 10 natural numbers is: 55\n",
      "The product of the first 10 natural numbers is: 3628800\n"
     ]
    }
   ],
   "source": [
    "#Here is a Python program that prints the sum and product of the first 10 natural numbers using a for loop:\n",
    "\n",
    "# Using for loop\n",
    "sum = 0\n",
    "product = 1\n",
    "\n",
    "for i in range(1, 11):\n",
    "    sum += i\n",
    "    product *= i\n",
    "\n",
    "print(\"The sum of the first 10 natural numbers is:\", sum)\n",
    "print(\"The product of the first 10 natural numbers is:\", product)\n"
   ]
  },
  {
   "cell_type": "code",
   "execution_count": 4,
   "id": "af0d993f-9a61-48f8-bc3e-b518b096924b",
   "metadata": {},
   "outputs": [
    {
     "name": "stdout",
     "output_type": "stream",
     "text": [
      "The sum of the first 10 natural numbers is: 55\n",
      "The product of the first 10 natural numbers is: 3628800\n"
     ]
    }
   ],
   "source": [
    "#And here is the same program using a while loop:\n",
    "\n",
    "# Using while loop\n",
    "sum = 0\n",
    "product = 1\n",
    "i = 1\n",
    "\n",
    "while i <= 10:\n",
    "    sum += i\n",
    "    product *= i\n",
    "    i += 1\n",
    "\n",
    "print(\"The sum of the first 10 natural numbers is:\", sum)\n",
    "print(\"The product of the first 10 natural numbers is:\", product)\n"
   ]
  },
  {
   "cell_type": "code",
   "execution_count": 5,
   "id": "270bbebc-40c6-4805-9547-ceae1f753929",
   "metadata": {},
   "outputs": [
    {
     "name": "stdin",
     "output_type": "stream",
     "text": [
      "Enter the units of electricity consumed:  310\n"
     ]
    },
    {
     "name": "stdout",
     "output_type": "stream",
     "text": [
      "The electricity bill is Rs. 2250.0\n"
     ]
    }
   ],
   "source": [
    "#Here's the Python program to calculate the electricity bill for a household based on the units consumed:\n",
    "\n",
    "# Input the units of electricity consumed\n",
    "units = int(input(\"Enter the units of electricity consumed: \"))\n",
    "\n",
    "# Initialize the bill amount to zero\n",
    "bill_amount = 0\n",
    "\n",
    "# Calculate the bill amount based on the per-unit charges\n",
    "if units <= 100:\n",
    "    bill_amount = units * 4.5\n",
    "elif units <= 200:\n",
    "    bill_amount = 100 * 4.5 + (units - 100) * 6\n",
    "elif units <= 300:\n",
    "    bill_amount = 100 * 4.5 + 100 * 6 + (units - 200) * 10\n",
    "else:\n",
    "    bill_amount = 100 * 4.5 + 100 * 6 + 100 * 10 + (units - 300) * 20\n",
    "\n",
    "# Print the bill amount\n",
    "print(\"The electricity bill is Rs.\", bill_amount)\n"
   ]
  },
  {
   "cell_type": "code",
   "execution_count": 6,
   "id": "fb73c306-915d-47aa-8fda-1d344e3a7330",
   "metadata": {},
   "outputs": [
    {
     "name": "stdout",
     "output_type": "stream",
     "text": [
      "[2, 4, 5, 6, 8, 10, 12, 14, 15, 16, 18, 20, 22, 24, 25, 26, 28, 30, 32, 34, 35, 36, 38, 40, 42, 44, 45, 46, 48, 50, 52, 54, 55, 56, 58, 60, 62, 64, 65, 66, 68, 70, 72, 74, 75, 76, 78, 80, 82, 84, 85, 86, 88, 90, 92, 94, 95, 96, 98, 100]\n",
      "[2, 4, 5, 6, 8, 10, 12, 14, 15, 16, 18, 20, 22, 24, 25, 26, 28, 30, 32, 34, 35, 36, 38, 40, 42, 44, 45, 46, 48, 50, 52, 54, 55, 56, 58, 60, 62, 64, 65, 66, 68, 70, 72, 74, 75, 76, 78, 80, 82, 84, 85, 86, 88, 90, 92, 94, 95, 96, 98, 100]\n"
     ]
    }
   ],
   "source": [
    "#Here's the Python program to create a list of numbers from 1 to 100, calculate the cube of each number, and append the numbers whose cube is divisible by 4 or 5 to a separate list:\n",
    "\n",
    "# Using for loop\n",
    "cubes_divisible = []\n",
    "for num in range(1, 101):\n",
    "    cube = num ** 3\n",
    "    if cube % 4 == 0 or cube % 5 == 0:\n",
    "        cubes_divisible.append(num)\n",
    "print(cubes_divisible)\n",
    "\n",
    "# Using while loop\n",
    "cubes_divisible = []\n",
    "num = 1\n",
    "while num <= 100:\n",
    "    cube = num ** 3\n",
    "    if cube % 4 == 0 or cube % 5 == 0:\n",
    "        cubes_divisible.append(num)\n",
    "    num += 1\n",
    "print(cubes_divisible)\n"
   ]
  },
  {
   "cell_type": "code",
   "execution_count": null,
   "id": "1e76868e-1114-445d-a82d-b94d96e86512",
   "metadata": {},
   "outputs": [],
   "source": [
    "#Here's a Python program to filter and count the vowels in the given string:\n",
    "\n"
   ]
  }
 ],
 "metadata": {
  "kernelspec": {
   "display_name": "Python 3 (ipykernel)",
   "language": "python",
   "name": "python3"
  },
  "language_info": {
   "codemirror_mode": {
    "name": "ipython",
    "version": 3
   },
   "file_extension": ".py",
   "mimetype": "text/x-python",
   "name": "python",
   "nbconvert_exporter": "python",
   "pygments_lexer": "ipython3",
   "version": "3.10.8"
  }
 },
 "nbformat": 4,
 "nbformat_minor": 5
}
